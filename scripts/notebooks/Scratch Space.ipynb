{
 "cells": [
  {
   "cell_type": "code",
   "execution_count": 82,
   "metadata": {},
   "outputs": [
    {
     "name": "stdout",
     "output_type": "stream",
     "text": [
      "The autoreload extension is already loaded. To reload it, use:\n",
      "  %reload_ext autoreload\n"
     ]
    }
   ],
   "source": [
    "%load_ext autoreload\n",
    "%autoreload 2"
   ]
  },
  {
   "cell_type": "code",
   "execution_count": 83,
   "metadata": {},
   "outputs": [],
   "source": [
    "import sys\n",
    "sys.path.append('/usr0/home/naveenr/projects/food_rescue_feedback')"
   ]
  },
  {
   "cell_type": "code",
   "execution_count": 84,
   "metadata": {},
   "outputs": [],
   "source": [
    "import numpy as np\n",
    "import random \n",
    "import matplotlib.pyplot as plt\n",
    "from feedback.fr_feedback import *\n",
    "import feedback.secret as secret\n",
    "from feedback.database import open_connection"
   ]
  },
  {
   "cell_type": "markdown",
   "metadata": {},
   "source": [
    "## Donors"
   ]
  },
  {
   "cell_type": "code",
   "execution_count": 85,
   "metadata": {},
   "outputs": [],
   "source": [
    "db_name = secret.database_name \n",
    "username = secret.database_username \n",
    "password = secret.database_password \n",
    "ip_address = secret.ip_address\n",
    "port = secret.database_port"
   ]
  },
  {
   "cell_type": "code",
   "execution_count": 86,
   "metadata": {},
   "outputs": [],
   "source": [
    "connection_dict = open_connection(db_name,username,password,ip_address,port)\n",
    "connection = connection_dict['connection']\n",
    "cursor = connection_dict['cursor']"
   ]
  },
  {
   "cell_type": "code",
   "execution_count": 87,
   "metadata": {},
   "outputs": [],
   "source": [
    "all_donors = get_all_donors(cursor)"
   ]
  },
  {
   "cell_type": "code",
   "execution_count": 88,
   "metadata": {},
   "outputs": [],
   "source": [
    "all_donors = get_all_donors_by_comments(cursor)"
   ]
  },
  {
   "cell_type": "code",
   "execution_count": 89,
   "metadata": {},
   "outputs": [],
   "source": [
    "donors_without_comments = get_all_donors_without_instructions(cursor)\n",
    "donors_without_comments = set(donors_without_comments)"
   ]
  },
  {
   "cell_type": "code",
   "execution_count": 72,
   "metadata": {},
   "outputs": [
    {
     "data": {
      "text/plain": [
       "[(1547, 0.23905723905723905, 594),\n",
       " (2388, 0.22866894197952217, 879),\n",
       " (115, 0.2161764705882353, 680),\n",
       " (132, 0.16941529235382308, 667),\n",
       " (2278, 0.1673052362707535, 783),\n",
       " (4695, 0.14645669291338584, 635),\n",
       " (23, 0.1374133949191686, 866),\n",
       " (1586, 0.13389830508474576, 590),\n",
       " (6114, 0.12703766160764474, 1779),\n",
       " (316, 0.1248339973439575, 1506),\n",
       " (5592, 0.11683848797250859, 582),\n",
       " (4691, 0.11469534050179211, 558),\n",
       " (129, 0.11451135241855874, 1013),\n",
       " (451, 0.11290322580645161, 1054),\n",
       " (886, 0.11023622047244094, 635),\n",
       " (30, 0.10880829015544041, 579),\n",
       " (177, 0.10779220779220779, 770),\n",
       " (135, 0.10434782608695652, 690),\n",
       " (33, 0.10290556900726393, 826),\n",
       " (7080, 0.10031847133757962, 628)]"
      ]
     },
     "execution_count": 72,
     "metadata": {},
     "output_type": "execute_result"
    }
   ],
   "source": [
    "all_donors = get_all_donors_by_comment_ratio(cursor)\n",
    "relevant_donors = [i for i in all_donors if i[1] > 0.1 and i[2] > 500]\n",
    "relevant_donors = sorted(relevant_donors,key=lambda k: k[1],reverse=True)\n",
    "relevant_donors_without_comments = [i for i in relevant_donors if i[0] in donors_without_comments]\n",
    "relevant_donors"
   ]
  },
  {
   "cell_type": "code",
   "execution_count": 77,
   "metadata": {},
   "outputs": [],
   "source": [
    "donor_of_interest = 4691"
   ]
  },
  {
   "cell_type": "code",
   "execution_count": 90,
   "metadata": {},
   "outputs": [
    {
     "data": {
      "text/plain": [
       "('251-Long Beach', 'Giant Eagle')"
      ]
     },
     "execution_count": 90,
     "metadata": {},
     "output_type": "execute_result"
    }
   ],
   "source": [
    "get_donor_name(cursor,donor_of_interest)"
   ]
  },
  {
   "cell_type": "code",
   "execution_count": 79,
   "metadata": {},
   "outputs": [
    {
     "data": {
      "text/plain": [
       "['Park near receiving. Check in with receiver. Grab a shopping cart and visit each department to see if they have donations. Visit Bakery, Dairy, Deli, Meat, and Produce Departments. Then check out with the receiver. If receiver area is closed, exit through front of store.',\n",
       " 'Check in with receiver. Grab a shopping cart and visit each department to see if they have donations. Visit Bakery, Dairy, Deli, Meat, and Produce Departments. Then check out with the receiver. If receiver area is closed, exit through front of store.']"
      ]
     },
     "execution_count": 79,
     "metadata": {},
     "output_type": "execute_result"
    }
   ],
   "source": [
    "get_instructions_by_id(cursor,donor_of_interest)"
   ]
  },
  {
   "cell_type": "code",
   "execution_count": 80,
   "metadata": {},
   "outputs": [
    {
     "data": {
      "text/plain": [
       "['The meat box was minimum 40#, so I counted as two boxes.',\n",
       " 'Still got numerous errors',\n",
       " 'Location did not have boxes so the shopping carts were just emptied i to my car. Took a lot longer than expected going to each dept and finding the people to release the food. Lots and lots of bakery today',\n",
       " 'Cherry',\n",
       " 'First time...most departmens didnt have anything. 😞',\n",
       " 'Everyone is so nice and I appreciate it so much. ',\n",
       " 'SAME PROBLEM AS LAST WEEK.\\n\\nFF DID NOT SHOW UP ON TUESDAY \\n\\nOR SATURDAY AGAIN. ',\n",
       " 'The picture of donations does not show everything, had to take two trips cause there were so many donations this time. 😁 so the picture reflects only the baked goods I had to come back for. ',\n",
       " \"All departments didn't have food but so thankful for the departments who were able to donate \",\n",
       " 'This was my first time, Bakery manager was really nice and helpful. Meat department was good. \\nYoh had to go to each department and all thenother departments we rude and put out showing me what to do. \\nThey were rude and I felt as if I was a huge bother. It was aweful. \\n\\nThe lady at AME was really nice!!\\n\\n',\n",
       " \"THE STAFF AT RALPHS  4TH STREET ARE VERY  GRACIOUS  AND HELPFUL.\\n IT'S PLEASURE  TO SERVE WITH THEM.\",\n",
       " \"A Great Find Today!!!\\nThanks  For  This Organization's  Vision!!!\",\n",
       " \"Very Pleasant  Employees...\\nEncouragement  from inquiring shoppers....\\nWe appreciate  the generosity  of  this Ralph's  location. \",\n",
       " 'Thanks you very much',\n",
       " 'Overwhelming at Ralphs. By myself many shopping carts of food. No boxes, heavy lifting. Be prepared',\n",
       " \"thanking Ralph's for their support and generosity  this past year!!\",\n",
       " 'Donations at ralphs were a little spread out through out the store other than that everything was just fine',\n",
       " 'I LOVE THIS!!!!\\nTHANK  YOU RALPH FOR YOUR GENEROSITY. THE FRESH PRODUCE, ETC IS NEEDED AND APPRECIATED IN OUR COMMUNITY. ',\n",
       " 'Thanking Ralphs for their  generosity! Our community  is blessed  to have Food Finders!!',\n",
       " 'Ralphs was a tad disjointed and their donations were scattered through the store so it required a bit more time than anticipated. Not a real complaint. Just an observation.',\n",
       " 'Thank you Ralphs  4th Street  you for your generosity. Our community certainly  appreciates  the donations  weekly. ',\n",
       " 'Someone already picked up at Ralphs on 4th St this morning. I arrived at 10:10, so no delivery. ',\n",
       " '👍',\n",
       " '👍',\n",
       " '8 cart day!',\n",
       " '👍',\n",
       " 'Bakery not prepared. Told me to return later. Cannot return later. ',\n",
       " '👍',\n",
       " '👍',\n",
       " 'Already picked up.😳',\n",
       " '👍',\n",
       " 'Only 2 boxes.🙁',\n",
       " '👍',\n",
       " 'Staff seem behind and unprepared.\\nThe receiver was at lunch and had no backup so had to wait for him.\\n\\nOnly recieved about 3 boxes of the approximate list. There was only one box of bakery items set aside. Waited about 20 mintutes for the prepared foods team to collect the food.',\n",
       " '👍',\n",
       " '👍',\n",
       " '👍',\n",
       " '👍',\n",
       " '👍\\nSuccessful pickup and delivery! Sorry , no pic today. ',\n",
       " '👍',\n",
       " 'Great bunch of people to work with both at Ralphs and Nesting Place : )',\n",
       " '👍',\n",
       " '👍',\n",
       " '👍',\n",
       " '👍',\n",
       " '👍',\n",
       " 'Left at gate. Nobody there yet. ',\n",
       " '👍',\n",
       " '2 pieces of questionable fruit. Bad kiwi and apple ',\n",
       " '👍',\n",
       " '👍',\n",
       " '👍',\n",
       " '👍',\n",
       " '👍',\n",
       " '👍',\n",
       " ' No pic today, sorry \\n👍',\n",
       " '👍',\n",
       " '👍',\n",
       " 'Kevin, it was a good pickup and delivery. Apparently, whoever picked up from the Ralphs last week on the other days did not pick up from the ‘deli’ area. They usually have a lot of deli stuff to go. The head deli gal was a little upset about that. I told her wed fix that😉 thanks',\n",
       " '👍',\n",
       " '👍',\n",
       " 'Good delivery. No pic today… forgot. 😉',\n",
       " '👍',\n",
       " '👍']"
      ]
     },
     "execution_count": 80,
     "metadata": {},
     "output_type": "execute_result"
    }
   ],
   "source": [
    "get_feedback_by_id(cursor,donor_of_interest)"
   ]
  },
  {
   "cell_type": "code",
   "execution_count": 41,
   "metadata": {},
   "outputs": [
    {
     "data": {
      "text/plain": [
       "147"
      ]
     },
     "execution_count": 41,
     "metadata": {},
     "output_type": "execute_result"
    }
   ],
   "source": [
    "len(get_feedback_by_id(cursor,donor_of_interest))"
   ]
  }
 ],
 "metadata": {
  "kernelspec": {
   "display_name": "patient",
   "language": "python",
   "name": "python3"
  },
  "language_info": {
   "codemirror_mode": {
    "name": "ipython",
    "version": 3
   },
   "file_extension": ".py",
   "mimetype": "text/x-python",
   "name": "python",
   "nbconvert_exporter": "python",
   "pygments_lexer": "ipython3",
   "version": "3.8.18"
  }
 },
 "nbformat": 4,
 "nbformat_minor": 2
}
