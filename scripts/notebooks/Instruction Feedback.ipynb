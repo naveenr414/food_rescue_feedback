{
 "cells": [
  {
   "cell_type": "code",
   "execution_count": 18,
   "metadata": {},
   "outputs": [
    {
     "name": "stdout",
     "output_type": "stream",
     "text": [
      "The autoreload extension is already loaded. To reload it, use:\n",
      "  %reload_ext autoreload\n"
     ]
    }
   ],
   "source": [
    "%load_ext autoreload\n",
    "%autoreload 2"
   ]
  },
  {
   "cell_type": "code",
   "execution_count": 19,
   "metadata": {},
   "outputs": [],
   "source": [
    "import sys\n",
    "sys.path.append('/usr0/home/naveenr/projects/food_rescue_feedback')"
   ]
  },
  {
   "cell_type": "code",
   "execution_count": 21,
   "metadata": {},
   "outputs": [],
   "source": [
    "import numpy as np\n",
    "import random \n",
    "import matplotlib.pyplot as plt\n",
    "from feedback.fr_feedback import *\n",
    "import feedback.secret as secret\n",
    "from feedback.database import open_connection\n",
    "import openai"
   ]
  },
  {
   "cell_type": "markdown",
   "metadata": {},
   "source": [
    "## Donors"
   ]
  },
  {
   "cell_type": "code",
   "execution_count": 13,
   "metadata": {},
   "outputs": [],
   "source": [
    "db_name = \"fr_new\" \n",
    "username = secret.database_username \n",
    "password = secret.database_password \n",
    "ip_address = \"localhost\"\n",
    "port = secret.database_port"
   ]
  },
  {
   "cell_type": "code",
   "execution_count": 14,
   "metadata": {},
   "outputs": [],
   "source": [
    "connection_dict = open_connection(db_name,username,password,ip_address,port)\n",
    "connection = connection_dict['connection']\n",
    "cursor = connection_dict['cursor']"
   ]
  },
  {
   "cell_type": "code",
   "execution_count": 15,
   "metadata": {},
   "outputs": [],
   "source": [
    "start_date = \"2024-05-20\"\n",
    "end_date = \"2024-05-26\""
   ]
  },
  {
   "cell_type": "code",
   "execution_count": 16,
   "metadata": {},
   "outputs": [],
   "source": [
    "info_file = pd.read_csv('../../results/reports/report_info_{}_{}.csv'.format(start_date,end_date))"
   ]
  },
  {
   "cell_type": "code",
   "execution_count": 22,
   "metadata": {},
   "outputs": [],
   "source": [
    "client = openai.OpenAI(api_key=secret.openai_api_key)"
   ]
  },
  {
   "cell_type": "code",
   "execution_count": 26,
   "metadata": {},
   "outputs": [
    {
     "name": "stdout",
     "output_type": "stream",
     "text": [
      "On 1 out of 9\n",
      "{\n",
      "    \"explanation\": \"The volunteer's feedback indicates a crucial change in contact information for the recipient, Second Chance Center - Downtown. The previous contact person, Les, is no longer there, and the volunteer now uses his cell phone number for communication. Additionally, the volunteer suggests ringing the doorbell instead of contacting Les directly. These updates are vital for future rescue trips to ensure smooth communication and coordination.\",\n",
      "    \"info_update\": \"Enter the store and let the staff know you are there to pick up a donation for We Don't Waste. Ring the doorbell for assistance. Contact Les at [new cell phone number] for further information.\"\n",
      "}\n",
      "On 2 out of 9\n",
      "{\n",
      "    \"explanation\": \"The volunteer's feedback indicates a change in the recipient location and a significant increase in the amount of food received compared to the estimate. This information is crucial for future rescues to ensure accurate delivery to the correct location and proper handling of the larger quantity of food.\",\n",
      "    \"info_update\": \"Take the food to the Healing Place instead of Beacon House. Received much more food than estimated to pick up from the elementary school. Go to kitchen door.\"\n",
      "}\n",
      "On 3 out of 9\n",
      "{\n",
      "    \"explanation\": \"The volunteer's feedback contains crucial information updates that need to be incorporated into the app instructions for future rescues. The pickup location was confusing and led to issues with the drop off location as well. The contact person did eventually provide directions, but there were connectivity issues with the volunteer's phone. This feedback is essential to improve the navigation and communication process for future rescues.\",\n",
      "    \"info_update\": \"Park at the front of the Neighbourhood House on West 7. Someone will be there to help you load your vehicle. For any issues, call Anthony at 778-896-6754. The pickup and drop-off locations need clarification to avoid confusion. Ensure clear instructions for both locations are provided to volunteers to prevent navigation errors. Additionally, ensure better communication backup plans in case of connectivity issues by providing alternative contact methods.\"\n",
      "}\n",
      "On 4 out of 9\n",
      "{\n",
      "    \"explanation\": \"The volunteer's feedback mentions a helpful tip regarding the drop-off location, indicating that the Smart and Final on Atlantic in LB should be used as a reference point for the drop-off at the Salvation Army in Long Beach-Citadel. This additional information can assist future volunteers in navigating to the correct destination.\",\n",
      "    \"info_update\": \"Check in with donor for donuts donation. Drop off location is the Salvation Army in Long Beach-Citadel. Use Smart and Final on Atlantic in LB as a reference point.\"\n",
      "}\n",
      "On 5 out of 9\n",
      "{\n",
      "    \"explanation\": \"The volunteer's feedback highlights an issue with the amount of food provided by the donor, not with the pickup instructions. The comment also mentions that the donuts were placed in a giant garbage bag for transport, which could be relevant for future volunteers but does not require an update in the instructions.\",\n",
      "    \"info_update\": \"Check in at front counter.\"\n",
      "}\n",
      "On 6 out of 9\n",
      "{\n",
      "    \"explanation\": \"The volunteer's feedback indicates that the food bank was closed, so they dropped the trays at a different location, the Eagle Rock Community Fridge. This is a crucial update for future rescues to ensure that volunteers know where to drop off the food in case the original location is closed.\",\n",
      "    \"info_update\": \"Please call (818) 847-3476 when you are on your way to provide a timeframe for pickup. Food bank closed. Trays dropped at the Eagle Rock Community Fridge instead.\"\n",
      "}\n",
      "On 7 out of 9\n",
      "{\n",
      "    \"explanation\": \"The volunteer's feedback highlights a change in the quantity of items, specifically mentioning that there are only 12 sandwiches for this rescue. This update is crucial as it impacts the amount of food being delivered from the donor to the recipient.\",\n",
      "    \"info_update\": \"Adjust the quantity of items to reflect only 12 sandwiches. Transfer the donations from the crate to the bags. If you're doing a weekly pick-up, keep the bags in your car. If you're doing a one-time pick-up, leave the bags with the recipient. Take a selfie with donations.\"\n",
      "}\n",
      "On 8 out of 9\n",
      "{\n",
      "    \"explanation\": \"The volunteer's feedback indicates a crucial update regarding the contact person for bread donations from Bimbo Bakeries. This information is essential for future rescues as it impacts the communication and coordination process during pickups.\",\n",
      "    \"info_update\": \"Pull into the parking lot. Bimbo Bakeries is reevaluating how it gives bread donations. The new contact person is [New Contact Person Name]. **PLEASE LEAVE BREAD CRATES THERE**.\"\n",
      "}\n",
      "On 9 out of 9\n",
      "{\n",
      "    \"explanation\": \"The volunteer's feedback indicates that the recipient, Deanne, was not available to accept the donation and the food was left in the vestibule outside a locked door. This relates to an issue with the recipient and not with the instructions provided for the rescue trip.\",\n",
      "    \"info_update\": \"\"\n",
      "}\n"
     ]
    },
    {
     "data": {
      "text/plain": [
       "[\"Enter the store and let the staff know you are there to pick up a donation for We Don't Waste. Ring the doorbell for assistance. Contact Les at [new cell phone number] for further information.\",\n",
       " 'Take the food to the Healing Place instead of Beacon House. Received much more food than estimated to pick up from the elementary school. Go to kitchen door.',\n",
       " 'Park at the front of the Neighbourhood House on West 7. Someone will be there to help you load your vehicle. For any issues, call Anthony at 778-896-6754. The pickup and drop-off locations need clarification to avoid confusion. Ensure clear instructions for both locations are provided to volunteers to prevent navigation errors. Additionally, ensure better communication backup plans in case of connectivity issues by providing alternative contact methods.',\n",
       " 'Check in with donor for donuts donation. Drop off location is the Salvation Army in Long Beach-Citadel. Use Smart and Final on Atlantic in LB as a reference point.',\n",
       " 'Check in at front counter.',\n",
       " 'Please call (818) 847-3476 when you are on your way to provide a timeframe for pickup. Food bank closed. Trays dropped at the Eagle Rock Community Fridge instead.',\n",
       " \"Adjust the quantity of items to reflect only 12 sandwiches. Transfer the donations from the crate to the bags. If you're doing a weekly pick-up, keep the bags in your car. If you're doing a one-time pick-up, leave the bags with the recipient. Take a selfie with donations.\",\n",
       " 'Pull into the parking lot. Bimbo Bakeries is reevaluating how it gives bread donations. The new contact person is [New Contact Person Name]. **PLEASE LEAVE BREAD CRATES THERE**.',\n",
       " '']"
      ]
     },
     "execution_count": 26,
     "metadata": {},
     "output_type": "execute_result"
    }
   ],
   "source": [
    "improve_instructions(client,cursor,info_file)"
   ]
  }
 ],
 "metadata": {
  "kernelspec": {
   "display_name": "patient",
   "language": "python",
   "name": "python3"
  },
  "language_info": {
   "codemirror_mode": {
    "name": "ipython",
    "version": 3
   },
   "file_extension": ".py",
   "mimetype": "text/x-python",
   "name": "python",
   "nbconvert_exporter": "python",
   "pygments_lexer": "ipython3",
   "version": "3.8.18"
  }
 },
 "nbformat": 4,
 "nbformat_minor": 2
}
