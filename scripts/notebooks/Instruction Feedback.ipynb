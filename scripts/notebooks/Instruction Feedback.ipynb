{
 "cells": [
  {
   "cell_type": "code",
   "execution_count": 1,
   "metadata": {},
   "outputs": [],
   "source": [
    "%load_ext autoreload\n",
    "%autoreload 2"
   ]
  },
  {
   "cell_type": "code",
   "execution_count": 2,
   "metadata": {},
   "outputs": [],
   "source": [
    "import sys\n",
    "sys.path.append('/usr0/home/naveenr/projects/food_rescue_feedback')"
   ]
  },
  {
   "cell_type": "code",
   "execution_count": 25,
   "metadata": {},
   "outputs": [],
   "source": [
    "import numpy as np\n",
    "import random \n",
    "import matplotlib.pyplot as plt\n",
    "from feedback.fr_feedback import *\n",
    "import feedback.secret as secret\n",
    "from feedback.database import open_connection"
   ]
  },
  {
   "cell_type": "markdown",
   "metadata": {},
   "source": [
    "## Donors"
   ]
  },
  {
   "cell_type": "code",
   "execution_count": 4,
   "metadata": {},
   "outputs": [],
   "source": [
    "db_name = secret.database_name \n",
    "username = secret.database_username \n",
    "password = secret.database_password \n",
    "ip_address = secret.ip_address\n",
    "port = secret.database_port"
   ]
  },
  {
   "cell_type": "code",
   "execution_count": 5,
   "metadata": {},
   "outputs": [],
   "source": [
    "connection_dict = open_connection(db_name,username,password,ip_address,port)\n",
    "connection = connection_dict['connection']\n",
    "cursor = connection_dict['cursor']"
   ]
  },
  {
   "cell_type": "code",
   "execution_count": 6,
   "metadata": {},
   "outputs": [],
   "source": [
    "all_donors = get_all_donors(cursor)"
   ]
  },
  {
   "cell_type": "code",
   "execution_count": 7,
   "metadata": {},
   "outputs": [],
   "source": [
    "all_donors = get_all_donors_by_comments(cursor)"
   ]
  },
  {
   "cell_type": "code",
   "execution_count": 8,
   "metadata": {},
   "outputs": [
    {
     "name": "stdout",
     "output_type": "stream",
     "text": [
      "HERE!\n"
     ]
    }
   ],
   "source": [
    "donors_without_comments = get_all_donors_without_instructions(cursor)\n",
    "donors_without_comments = set(donors_without_comments)"
   ]
  },
  {
   "cell_type": "code",
   "execution_count": 9,
   "metadata": {},
   "outputs": [
    {
     "data": {
      "text/plain": [
       "[(1547, 0.23905723905723905, 594),\n",
       " (2388, 0.22866894197952217, 879),\n",
       " (115, 0.2161764705882353, 680),\n",
       " (132, 0.16941529235382308, 667),\n",
       " (2278, 0.1673052362707535, 783),\n",
       " (4695, 0.14645669291338584, 635),\n",
       " (23, 0.1374133949191686, 866),\n",
       " (1586, 0.13389830508474576, 590),\n",
       " (6114, 0.12703766160764474, 1779),\n",
       " (316, 0.1248339973439575, 1506),\n",
       " (5592, 0.11683848797250859, 582),\n",
       " (4691, 0.11469534050179211, 558),\n",
       " (129, 0.11451135241855874, 1013),\n",
       " (451, 0.11290322580645161, 1054),\n",
       " (886, 0.11023622047244094, 635),\n",
       " (30, 0.10880829015544041, 579),\n",
       " (177, 0.10779220779220779, 770),\n",
       " (135, 0.10434782608695652, 690),\n",
       " (33, 0.10290556900726393, 826),\n",
       " (7080, 0.10031847133757962, 628)]"
      ]
     },
     "execution_count": 9,
     "metadata": {},
     "output_type": "execute_result"
    }
   ],
   "source": [
    "all_donors = get_all_donors_by_comment_ratio(cursor)\n",
    "relevant_donors = [i for i in all_donors if i[1] > 0.1 and i[2] > 500]\n",
    "relevant_donors = sorted(relevant_donors,key=lambda k: k[1],reverse=True)\n",
    "relevant_donors_without_comments = [i for i in relevant_donors if i[0] in donors_without_comments]\n",
    "relevant_donors"
   ]
  },
  {
   "cell_type": "code",
   "execution_count": 35,
   "metadata": {},
   "outputs": [
    {
     "name": "stdout",
     "output_type": "stream",
     "text": [
      "For this rescue, the donor is Brueggers, and its location is Sewickley; the recipient is Salvation Army, and its location is Aliquippa. Instruction: Please call ahead to confirm a donation!. Comment: Easy one.\n",
      "For this rescue, the donor is Brueggers, and its location is Cochran Road; the recipient is Christian Housing Inc., and its location is Creedmoor Court Apartments. Instruction: Please call the restaurant to confirm the donation before leaving to start your rescue. If you cannot get through or confirm the donation, please let 412 Food Rescue know and we will be in touch.. Comment: Sorry! No bagels today 🥺, i will text janice at creedmore.\n",
      "For this rescue, the donor is Giant Eagle, and its location is Westview #25; the recipient is Hugh Lane Wellness Foundation, and its location is . Instruction: Go to Receiving and ring bell if after 12:30pm. If no answer, call and ask for Produce. Please enter the 412 Food Rescue PIN into scanner: 65428. Please do not share the PIN # with staff--it is our electronic signature! . Comment: The store had already made a donation yesterday so there wasn't any delivery necessary today..\n",
      "For this rescue, the donor is Giant Eagle, and its location is Day Drive #5817; the recipient is St. Vincent De Paul, and its location is Brookside Family Center. Instruction: The Produce Dept. and Bakery Dept. will always have a donation for us. Park in the back of the building and enter at the Receiving area. Buzz in at the call box. . Comment: Sorry, fat-fingeted the keyboard and <entered> before getting signature. Gladys received..\n",
      "For this rescue, the donor is The Good Food Project, and its location is 112 E. Sherman St.; the recipient is Lawrenceville United, and its location is St. Mary's Food Pantry. Instruction: Please call/text when you're on the way to drop off donation.. Comment: Dropped off to Darrel.\n",
      "For this rescue, the donor is Gluuteny, and its location is ; the recipient is Swissvale Towers, and its location is . Instruction: Please call Gluuteny before going there to confirm that they have a donation! . Comment: No one answered the phone at gluuteny. But someone answered the door, so I was able to do the pick up. .\n",
      "For this rescue, the donor is Giant Eagle, and its location is Westview #25; the recipient is Presbyterian Senior Care, and its location is Metowers. Instruction: Go to Receiving and ring bell if after 12:30pm. If no answer, call and ask for Produce. Please enter the 412 Food Rescue PIN into scanner: 65428. Please do not share the PIN # with staff--it is our electronic signature! . Comment: Happy to help!.\n",
      "For this rescue, the donor is Mediterra, and its location is ; the recipient is ACHA, and its location is Pleasant Ridge. Instruction: . Comment: I had trouble finding someone to accept the delivery. Neither of our phone numbers are correct. A sweet woman (didn't catch her name) offered her number for future: 412-708-1522.\n",
      "For this rescue, the donor is Safeway, and its location is Davie Street; the recipient is Lookout Housing and Health Society, and its location is Powell Street Getaway. Instruction: Please park in the underground parking lot that can be accessed via the alley off of Cardero St. Take the elevator up to the store. Comment: Went well! No problems on either end, about one hour start to finish. Had to scrounge up some boxes at Safeway, from the produce section, thats about all the drama. Ready to do it again. .\n",
      "For this rescue, the donor is Ralphs Market, and its location is 178-Long Beach; the recipient is US Vets, and its location is Long Beach. Instruction: Park on side of building.. Comment: 👍.\n",
      "For this rescue, the donor is Ralphs Market, and its location is 251-Long Beach; the recipient is His Nesting Place, and its location is . Instruction: Park near receiving. Check in with receiver. Grab a shopping cart and visit each department to see if they have donations. Visit Bakery, Dairy, Deli, Meat, and Produce Departments. Then check out with the receiver. If receiver area is closed, exit through front of store.. Comment: 👍.\n",
      "For this rescue, the donor is Brown's ShopRite, and its location is 471 Brooklawn; the recipient is Sacred Heart Parish, and its location is St. Bartholomew Church (aka St. Josephine Bakita). Instruction: Walk up receiving ramp in back of store to speak with Joe Cuculino, Receiving Manager, about picking up a Philly Food Rescue donation. Maintain six feet of social distance.. Comment: Thanks for Buddy at Brooklawn shoprite.\n",
      "For this rescue, the donor is Castellini, and its location is Castellini; the recipient is CAIN, and its location is CAIN. Instruction: Enter Parking Lot at sign for 8 Plum Street, Pull into Docks 1, 2, or 3. Comment: Six additional boxes but they were small so it all fit.\n",
      "For this rescue, the donor is Ralphs Market, and its location is 178-Long Beach; the recipient is Hope 4 Everyone Foundation, and its location is . Instruction: Park on side of building.. Comment: Someone had already picked up donation this week. The receiver said they did not go through her..\n",
      "For this rescue, the donor is Fresh Direct Produce Ltd., and its location is ; the recipient is South Vancouver Family Place (PIRS), and its location is . Instruction: Let staff on site know you're from Vancouver Food Runners. If you need assistance, please call Willis. If you cannot reach Willis, call the manager, Ashley: 604-639-1329. . Comment: Love those fresh direct guys!.\n",
      "For this rescue, the donor is Brueggers, and its location is Sewickley; the recipient is Salvation Army, and its location is Aliquippa. Instruction: Please call ahead to confirm a donation!. Comment: Lt. Candace is no longer at this Salvation Army. Need a new contact number for drop off. .\n",
      "For this rescue, the donor is Giant Eagle, and its location is Waterfront #6379; the recipient is Judah Ministries, and its location is . Instruction: Please enter the 412 Food Rescue PIN into scanner: 65428. Please do not share the PIN # with staff--it is our electronic signature! . Comment: Thank You For The Blessings ❤️❤️❤️.\n",
      "For this rescue, the donor is The Good Food Project, and its location is 112 E. Sherman St.; the recipient is Lawrenceville United, and its location is St. Mary's Food Pantry. Instruction: Please call/text when you're on the way to drop off donation.. Comment: Dropped to Dave.\n",
      "For this rescue, the donor is The Good Food Project, and its location is 112 E. Sherman St.; the recipient is Allen Place Community Services Inc., and its location is Deliverance Center. Instruction: Please call/text when you're on the way to drop off donation.. Comment: Loved this man! He was so grateful for the food for his parishoners. Cant wsit yo fl yhis one again!!!.\n",
      "For this rescue, the donor is Wegmans, and its location is Potomac (#55); the recipient is ACTS Shelter Clients, and its location is Motel 6. Instruction: Enter through the front entrance and go to Wegmans catering desk! Let a nearby staff member know you're there to pick up the order for ACTS. They will grab the bag/s of meals from the catering fridge.. Comment: Done.\n",
      "For this rescue, the donor is Giant Eagle, and its location is Monroeville #60; the recipient is Judah Ministries, and its location is . Instruction: Please call store ahead of time to confirm donation. Ask Store Manager to check if there is a produce and bakery donation. Comment: Thanks For The Blessings ❤❤❤.\n",
      "For this rescue, the donor is Brueggers, and its location is Sewickley; the recipient is Center For Hope, and its location is Ambridge. Instruction: Please call ahead to confirm a donation!. Comment: 9 dozen bagels.\n",
      "For this rescue, the donor is Giant Eagle, and its location is Westview #25; the recipient is Presbyterian Senior Care, and its location is Metowers. Instruction: Go to Receiving and ring bell if after 12:30pm. If no answer, call and ask for Produce. Please enter the 412 Food Rescue PIN into scanner: 65428. Please do not share the PIN # with staff--it is our electronic signature! . Comment: 6 boxes of produce! Thank you West View Gisnt Eagle!.\n",
      "For this rescue, the donor is Giant Eagle, and its location is Westview #25; the recipient is Hugh Lane Wellness Foundation, and its location is . Instruction: Go to Receiving and ring bell if after 12:30pm. If no answer, call and ask for Produce. Please enter the 412 Food Rescue PIN into scanner: 65428. Please do not share the PIN # with staff--it is our electronic signature! . Comment: Giant Eagle didn’t have a donation to pick up today. .\n",
      "For this rescue, the donor is Brueggers, and its location is Sewickley; the recipient is Salvation Army, and its location is Aliquippa. Instruction: Please call ahead to confirm a donation!. Comment: Good day for an easy run.\n",
      "For this rescue, the donor is Giant Eagle, and its location is Edgecliff #1263; the recipient is Catholic Charities Diocese of Cleveland, and its location is Bishop William M. Cosgrove Center. Instruction: Please call the Produce and Bakery Dept. to check for a donation before leaving. Park in the back of the building (except Wednesdays, enter through the front of the store) and enter at the Receiving area. Buzz in at the call box.. Comment: It was only 1 box .\n",
      "For this rescue, the donor is Brueggers, and its location is Sewickley; the recipient is Ebenezer Baptist Church, and its location is Ebenezer Baptist Church. Instruction: Please call ahead to confirm a donation!. Comment: Holding for tomorrow.\n",
      "For this rescue, the donor is Brueggers, and its location is Sewickley; the recipient is AIU, and its location is Sto-rox Family Center. Instruction: Please call ahead to confirm a donation!. Comment: Called contact as instructed. Got voicemail.  At delivery site, all doors were locked. After ten minutes of confusion, contact, Edie, happened by chance to arrive.  .\n",
      "For this rescue, the donor is Brueggers, and its location is Moon; the recipient is Community Builders, and its location is Meyers Ridge Townhomes. Instruction: They have a new manager, please call ahead to ensure they have a donation!. Comment: Brokers informed me that in order to have bagels ready for a 412 food rescue delivery, they need a call the day prior to delivery. Since I picked up the route this morning, I was unable to call in time to get the donation. There was nowhere on the app that I could see the 24 hour call ahead requirement. It also was unclear to me how to indicate there was no \n",
      "pick up today..\n",
      "For this rescue, the donor is Brown's ShopRite, and its location is 471 Brooklawn; the recipient is HopeWorks Camden, and its location is . Instruction: Walk up receiving ramp in back of store to speak with Joe Cuculino, Receiving Manager, about picking up a Philly Food Rescue donation. Maintain six feet of social distance.. Comment: It all went fine. .\n",
      "For this rescue, the donor is Brueggers, and its location is Moon; the recipient is Sewickley Community Center, and its location is . Instruction: They have a new manager, please call ahead to ensure they have a donation!. Comment: Brueggers Store did not answer repeated calls to confirm donation so there was no pick up.\n",
      "For this rescue, the donor is Brueggers, and its location is Sewickley; the recipient is Prayer Lutheran Church, and its location is Aliquippa. Instruction: Please call ahead to confirm a donation!. Comment: Nothing available to pick up. I notified Prayer Lutheran.\n",
      "For this rescue, the donor is Brueggers, and its location is Cochran Road; the recipient is HACP, and its location is Carrick Regency. Instruction: Please call the restaurant to confirm the donation before leaving to start your rescue. If you cannot get through or confirm the donation, please let 412 Food Rescue know and we will be in touch.. Comment: Husband did and on vacation next week will request a sub.\n",
      "For this rescue, the donor is Giant Eagle, and its location is Monroeville #60; the recipient is Judah Ministries, and its location is . Instruction: Please call store ahead of time to confirm donation. Ask Store Manager to check if there is a produce and bakery donation. Comment: Thanks For The Blessings ❤️❤️❤️.\n",
      "For this rescue, the donor is Giant Eagle, and its location is Monroeville #60; the recipient is CHP Family Care Connection, and its location is Turtle Creek. Instruction: Please call store ahead of time to confirm donation. Ask Store Manager to check if there is a produce and bakery donation. Comment: Nothing to pick up again..\n",
      "For this rescue, the donor is Gluuteny, and its location is ; the recipient is Power, and its location is House. Instruction: Please call Gluuteny before going there to confirm that they have a donation! . Comment: Dropped off on the porch. Called the office..\n",
      "For this rescue, the donor is Giant Eagle, and its location is Broadview/Parma # 6388; the recipient is Catholic Charities Diocese of Cleveland, and its location is Parkview Early Learning. Instruction: *CHECK QUALITY OF PRODUCE & REFUSE BAD QUALITY. Ask staff for any Food Rescue donations and have them direct you to Produce cooler. Input PIN: 23020 in device upon request. Ask for boxes to transport donations and use a shopping cart to help you load your vehicle.. Comment: Thank you Giant Eagle Broadview Rd Parma.\n",
      "For this rescue, the donor is Gluuteny, and its location is ; the recipient is Power, and its location is House. Instruction: Please call Gluuteny before going there to confirm that they have a donation! . Comment: Dropped to receptionist.\n",
      "For this rescue, the donor is Giant Eagle, and its location is Edgecliff #1263; the recipient is CHN Housing Partners, and its location is Commons At West Village. Instruction: Please call the Produce and Bakery Dept. to check for a donation before leaving. Park in the back of the building (except Wednesdays, enter through the front of the store) and enter at the Receiving area. Buzz in at the call box.. Comment: 6 bakery 1 produce to CC\n",
      "5 BAKERY TO APARTMENTS.\n",
      "For this rescue, the donor is Fresh Direct Produce Ltd., and its location is ; the recipient is South Vancouver Family Place (PIRS), and its location is . Instruction: Let staff on site know you're from Vancouver Food Runners. If you need assistance, please call Willis. If you cannot reach Willis, call the manager, Ashley: 604-639-1329. . Comment: Easy, friendly and helpful .\n",
      "For this rescue, the donor is Gluuteny, and its location is ; the recipient is GIFT (Giving It Forward Together), and its location is Forward Shady Apartments. Instruction: Please call Gluuteny before going there to confirm that they have a donation! . Comment: So glad I was finally able to do one and the app made it so incredibly easy..\n",
      "For this rescue, the donor is Giant Eagle, and its location is Edgecliff #1263; the recipient is Council for Economic Opportunities in Greater Cleveland (INACTIVE*), and its location is William Patrick Day Head Start. Instruction: Please call the Produce and Bakery Dept. to check for a donation before leaving. Park in the back of the building (except Wednesdays, enter through the front of the store) and enter at the Receiving area. Buzz in at the call box.. Comment: All good, albeit only one half-filled box of produce. Note that there was no cell signal available at the dropoff, ergo no signature in this submission. 👍.\n",
      "For this rescue, the donor is Giant Eagle, and its location is Pine Twp Market District #43; the recipient is Victory Family Church, and its location is . Instruction: Please enter the 412 Food Rescue PIN into scanner: 65428. Please do not share the PIN # with staff--it is our electronic signature! \n",
      "\n",
      "NOTE: If it's the second Thursday of the month, please do not take bakery.. Comment: Couldn’t fit all of the boxes in my car in one trip. Will have to make two trips. .\n",
      "For this rescue, the donor is Brueggers, and its location is Sewickley; the recipient is Meals on Wheels, and its location is St. James/ Sewickley. Instruction: Please call ahead to confirm a donation!. Comment: Nothing to pick up today\n",
      ".\n",
      "For this rescue, the donor is Giant Eagle, and its location is Day Drive #5817; the recipient is St. Vincent De Paul, and its location is Brookside Family Center. Instruction: The Produce Dept. and Bakery Dept. will always have a donation for us. Park in the back of the building and enter at the Receiving area. Buzz in at the call box. . Comment: Thats what im talking about, thank you Giant Eagle Day Dr Parma. An amazing Rescue.\n",
      "For this rescue, the donor is Brueggers, and its location is Moon; the recipient is Presbyterian Senior Care, and its location is Metowers. Instruction: They have a new manager, please call ahead to ensure they have a donation!. Comment: Sharon was great. .\n",
      "For this rescue, the donor is Giant Eagle, and its location is Westview #25; the recipient is Presbyterian Senior Care, and its location is Metowers. Instruction: Go to Receiving and ring bell if after 12:30pm. If no answer, call and ask for Produce. Please enter the 412 Food Rescue PIN into scanner: 65428. Please do not share the PIN # with staff--it is our electronic signature! . Comment: Giant Eagle says no donation this week.\n",
      "For this rescue, the donor is Mediterra, and its location is ; the recipient is National Church Residences, and its location is Riverview Manor. Instruction: . Comment: Said to always be the backup if Sheptytsky cant take evertything.\n",
      "For this rescue, the donor is Fresh Direct Produce Ltd., and its location is ; the recipient is Atira Women's Resource Society, and its location is Cordova Street. Instruction: Let staff on site know you're from Vancouver Food Runners. If you need assistance, please call Willis. If you cannot reach Willis, call the manager, Ashley: 604-639-1329. . Comment: Fresh direct loader is thr best!  Such a nice man. .\n",
      "For this rescue, the donor is Giant Eagle, and its location is Edgecliff #1263; the recipient is Council for Economic Opportunities in Greater Cleveland (INACTIVE*), and its location is Lakeview Terrace Head Start (*). Instruction: Please call the Produce and Bakery Dept. to check for a donation before leaving. Park in the back of the building (except Wednesdays, enter through the front of the store) and enter at the Receiving area. Buzz in at the call box.. Comment: Edgecliff GE has bakery for FR scheduled every Wed (in addition to produce). Receiving door closed for business on Wed... still need to pick up at Receiving door, but must enter initially from front of store. .\n",
      "For this rescue, the donor is Brueggers, and its location is Sewickley; the recipient is AIU, and its location is Sto-rox Family Center. Instruction: Please call ahead to confirm a donation!. Comment: Phone call to sto-rox family center should go to Lil. .\n",
      "For this rescue, the donor is Giant Eagle, and its location is Edgecliff #1263; the recipient is Council for Economic Opportunities in Greater Cleveland (INACTIVE*), and its location is Lakeview Terrace Head Start (*). Instruction: Please call the Produce and Bakery Dept. to check for a donation before leaving. Park in the back of the building (except Wednesdays, enter through the front of the store) and enter at the Receiving area. Buzz in at the call box.. Comment: No staff in Edgecliff GE on Wednesdays (or Sundays), per schedule... have to use front entrance on those days.\n",
      "For this rescue, the donor is Brown's ShopRite, and its location is 471 Brooklawn; the recipient is HopeWorks Camden, and its location is . Instruction: Walk up receiving ramp in back of store to speak with Joe Cuculino, Receiving Manager, about picking up a Philly Food Rescue donation. Maintain six feet of social distance.. Comment: Everything went fine!.\n",
      "For this rescue, the donor is Gluuteny, and its location is ; the recipient is Power, and its location is House. Instruction: Please call Gluuteny before going there to confirm that they have a donation! . Comment: Easy to follow instructions. .\n",
      "For this rescue, the donor is Giant Eagle, and its location is Pine Twp Market District #43; the recipient is Victory Family Church, and its location is . Instruction: Please enter the 412 Food Rescue PIN into scanner: 65428. Please do not share the PIN # with staff--it is our electronic signature! \n",
      "\n",
      "NOTE: If it's the second Thursday of the month, please do not take bakery.. Comment: Called ahead spoke to (Dan or Dave) unintelligible.  He said that he had a shipment. When I arrived no produce was available. Walked throughout produce cooler in back of store spoke with someone who said nothing wad available.  This person then asked Matt who said nothing was available.  FYI I think Marie ia still not there..\n",
      "For this rescue, the donor is Giant Eagle, and its location is Westview #25; the recipient is Presbyterian Senior Care, and its location is Metowers. Instruction: Go to Receiving and ring bell if after 12:30pm. If no answer, call and ask for Produce. Please enter the 412 Food Rescue PIN into scanner: 65428. Please do not share the PIN # with staff--it is our electronic signature! . Comment: Giant Eagle says they have no produce donation this week.\n",
      "For this rescue, the donor is Giant Eagle, and its location is Westview #25; the recipient is Bethany House, and its location is . Instruction: Go to Receiving and ring bell if after 12:30pm. If no answer, call and ask for Produce. Please enter the 412 Food Rescue PIN into scanner: 65428. Please do not share the PIN # with staff--it is our electronic signature! . Comment: Pull around back of GE (near the cage not the loading dock) and ring whatever bell actually works to get someone to load car.\n",
      "For this rescue, the donor is Wegmans, and its location is Potomac (#55); the recipient is ACTS, and its location is Hunger Prevention Center. Instruction: Enter through the front entrance and go to Wegmans catering desk! Let a nearby staff member know you're there to pick up the order for ACTS. They will grab the bag/s of meals from the catering fridge.. Comment: Testing.\n",
      "For this rescue, the donor is Brown's ShopRite, and its location is 471 Brooklawn; the recipient is Sacred Heart Parish, and its location is St. Bartholomew Church (aka St. Josephine Bakita). Instruction: Walk up receiving ramp in back of store to speak with Joe Cuculino, Receiving Manager, about picking up a Philly Food Rescue donation. Maintain six feet of social distance.. Comment: Joe in receiving at brooklawn shoprite is such a great help to me..\n",
      "For this rescue, the donor is Brueggers, and its location is Cochran Road; the recipient is Brashear Association, and its location is . Instruction: Please call the restaurant to confirm the donation before leaving to start your rescue. If you cannot get through or confirm the donation, please let 412 Food Rescue know and we will be in touch.. Comment: Super easy. Nice folks at the door. I parked my van at the back, went around to the front and it was the perfect spot for delivery. .\n",
      "For this rescue, the donor is Brueggers, and its location is Cochran Road; the recipient is Brookline Christian Food Pantry, and its location is Tree of Life. Instruction: Please call the restaurant to confirm the donation before leaving to start your rescue. If you cannot get through or confirm the donation, please let 412 Food Rescue know and we will be in touch.. Comment: Brueggers Cochran Road Greentree is closed until December 4. There was a note on the door when I arrived. They haven’t been answering their phone the last few months when I call on Wednesday mornings so I didn’t think they were closed. .\n",
      "For this rescue, the donor is Safeway, and its location is Davie Street; the recipient is Lookout Housing and Health Society, and its location is Powell Street Getaway. Instruction: Please park in the underground parking lot that can be accessed via the alley off of Cardero St. Take the elevator up to the store. Comment: No problems!.\n",
      "For this rescue, the donor is Ralphs Market, and its location is 178-Long Beach; the recipient is Christ Second Baptist Church, and its location is . Instruction: Park on side of building.. Comment: Very helpful  and gracious  store associates...\n",
      "For this rescue, the donor is Giant Eagle, and its location is Monroeville #60; the recipient is Judah Ministries, and its location is . Instruction: Please call store ahead of time to confirm donation. Ask Store Manager to check if there is a produce and bakery donation. Comment: Thanks for the Blessings ❤️❤️❤️.\n",
      "For this rescue, the donor is Fresh Direct Produce Ltd., and its location is ; the recipient is Atira Women's Resource Society, and its location is Cordova Street. Instruction: Let staff on site know you're from Vancouver Food Runners. If you need assistance, please call Willis. If you cannot reach Willis, call the manager, Ashley: 604-639-1329. . Comment: Smooth but i am not sure the two of us were able to collect all of the boxes. I took 25 boxes of melons abd there were many more but the other volubteer had a smaller car \n",
      "It was only melons and it seemed like Colleen at Atira was expecting different. \n",
      "Not sure if that is helpful feedback 😬.\n",
      "For this rescue, the donor is Fresh Direct Produce Ltd., and its location is ; the recipient is Atira Women's Resource Society, and its location is Cordova Street. Instruction: Let staff on site know you're from Vancouver Food Runners. If you need assistance, please call Willis. If you cannot reach Willis, call the manager, Ashley: 604-639-1329. . Comment: forgot to hit complete earlier \n",
      ".\n",
      "For this rescue, the donor is The Good Food Project, and its location is 112 E. Sherman St.; the recipient is Presbyterian Senior Care, and its location is York Commons. Instruction: Please call/text when you're on the way to drop off donation.. Comment: Dropped to Zamira.\n",
      "For this rescue, the donor is Wegmans, and its location is Potomac (#55); the recipient is ACTS Shelter Clients, and its location is Motel 6. Instruction: Enter through the front entrance and go to Wegmans catering desk! Let a nearby staff member know you're there to pick up the order for ACTS. They will grab the bag/s of meals from the catering fridge.. Comment: Fine.\n",
      "For this rescue, the donor is Gluuteny, and its location is ; the recipient is Power, and its location is House. Instruction: Please call Gluuteny before going there to confirm that they have a donation! . Comment: The paper bags ripped a bit because it was raining..\n",
      "For this rescue, the donor is Ralphs Market, and its location is 178-Long Beach; the recipient is New Life Beginnings, and its location is . Instruction: Park on side of building.. Comment: 👍🎉🎉.\n",
      "For this rescue, the donor is Giant Eagle, and its location is Monroeville #60; the recipient is Judah Ministries, and its location is . Instruction: Please call store ahead of time to confirm donation. Ask Store Manager to check if there is a produce and bakery donation. Comment: Thank you for the Blessings ❤❤❤.\n",
      "For this rescue, the donor is Safeway, and its location is Davie Street; the recipient is Strathcona Community Centre, and its location is . Instruction: Please park in the underground parking lot that can be accessed via the alley off of Cardero St. Take the elevator up to the store. Comment: I couldn't find the dairy manager.  The bakery person attempted to page her several times but no luck.  They were sure there wasn't anything from dairy today though.  Lindsay at Strathcona Community Centre was very appreciative to receive the food..\n",
      "For this rescue, the donor is Brueggers, and its location is Cochran Road; the recipient is HACP, and its location is Carrick Regency. Instruction: Please call the restaurant to confirm the donation before leaving to start your rescue. If you cannot get through or confirm the donation, please let 412 Food Rescue know and we will be in touch.. Comment: It was great because my husband did it.\n",
      "For this rescue, the donor is Giant Eagle, and its location is Edgecliff #1263; the recipient is St. Vincent De Paul, and its location is St. Patrick's Food Pantry. Instruction: Please call the Produce and Bakery Dept. to check for a donation before leaving. Park in the back of the building (except Wednesdays, enter through the front of the store) and enter at the Receiving area. Buzz in at the call box.. Comment: One box of produce. Bakery was there, they didnt give it to me. I did not ask, sorry!.\n",
      "For this rescue, the donor is Giant Eagle, and its location is Broadview/Parma # 6388; the recipient is Catholic Charities Diocese of Cleveland, and its location is Parkview Early Learning. Instruction: *CHECK QUALITY OF PRODUCE & REFUSE BAD QUALITY. Ask staff for any Food Rescue donations and have them direct you to Produce cooler. Input PIN: 23020 in device upon request. Ask for boxes to transport donations and use a shopping cart to help you load your vehicle.. Comment: Very good.\n",
      "For this rescue, the donor is Ralphs Market, and its location is 251-Long Beach; the recipient is His Nesting Place, and its location is . Instruction: Park near receiving. Check in with receiver. Grab a shopping cart and visit each department to see if they have donations. Visit Bakery, Dairy, Deli, Meat, and Produce Departments. Then check out with the receiver. If receiver area is closed, exit through front of store.. Comment: 👍.\n",
      "For this rescue, the donor is Giant Eagle, and its location is Broadview/Parma # 6388; the recipient is Council for Economic Opportunities in Greater Cleveland (INACTIVE*), and its location is Villa Head Start. Instruction: *CHECK QUALITY OF PRODUCE & REFUSE BAD QUALITY. Ask staff for any Food Rescue donations and have them direct you to Produce cooler. Input PIN: 23020 in device upon request. Ask for boxes to transport donations and use a shopping cart to help you load your vehicle.. Comment: It was a little tricky to find the delivery. .\n",
      "For this rescue, the donor is Brueggers, and its location is Sewickley; the recipient is New Hope Community Church, and its location is . Instruction: Please call ahead to confirm a donation!. Comment: Easy one.\n",
      "For this rescue, the donor is Giant Eagle, and its location is Day Drive #5817; the recipient is St. Vincent De Paul, and its location is Brookside Family Center. Instruction: The Produce Dept. and Bakery Dept. will always have a donation for us. Park in the back of the building and enter at the Receiving area. Buzz in at the call box. . Comment: i met James & yes he IS awesome!.\n",
      "For this rescue, the donor is Giant Eagle, and its location is Monroeville #60; the recipient is CHP Family Care Connection, and its location is Turtle Creek. Instruction: Please call store ahead of time to confirm donation. Ask Store Manager to check if there is a produce and bakery donation. Comment: Spoke to the produce manager and the bakery, and they didn’t have a donation to make today. Called 412 to explain what happened - sorry to not have anything to deliver!.\n",
      "For this rescue, the donor is Giant Eagle, and its location is Pine Twp Market District #43; the recipient is New Hope Community Church, and its location is . Instruction: Please enter the 412 Food Rescue PIN into scanner: 65428. Please do not share the PIN # with staff--it is our electronic signature! \n",
      "\n",
      "NOTE: If it's the second Thursday of the month, please do not take bakery.. Comment: Couldnt take all and bakery unboxed.\n",
      "For this rescue, the donor is Giant Eagle, and its location is Pine Twp Market District #43; the recipient is Victory Family Church, and its location is . Instruction: Please enter the 412 Food Rescue PIN into scanner: 65428. Please do not share the PIN # with staff--it is our electronic signature! \n",
      "\n",
      "NOTE: If it's the second Thursday of the month, please do not take bakery.. Comment: Couldn’t fit all of the boxes in my car in one trip. Will have to make two trips. .\n",
      "For this rescue, the donor is Fresh Direct Produce Ltd., and its location is ; the recipient is South Vancouver Family Place (PIRS), and its location is . Instruction: Let staff on site know you're from Vancouver Food Runners. If you need assistance, please call Willis. If you cannot reach Willis, call the manager, Ashley: 604-639-1329. . Comment: Smooth. .\n",
      "For this rescue, the donor is Giant Eagle, and its location is Monroeville #60; the recipient is CHP Family Care Connection, and its location is Turtle Creek. Instruction: Please call store ahead of time to confirm donation. Ask Store Manager to check if there is a produce and bakery donation. Comment: Giant Eagle did not have items boxed so, 7 boxes is estimated. It was 2 grocery carts of loose bakery items. We loaded loose into the car and the ladies receiving helped put into trash bags/grocery bags on their end to take inside. .\n",
      "For this rescue, the donor is Brueggers, and its location is Sewickley; the recipient is Salvation Army, and its location is Aliquippa. Instruction: Please call ahead to confirm a donation!. Comment: Easy breezy.\n",
      "For this rescue, the donor is Gluuteny, and its location is ; the recipient is GIFT (Giving It Forward Together), and its location is Forward Shady Apartments. Instruction: Please call Gluuteny before going there to confirm that they have a donation! . Comment: No one answered phone or doorbell. Had to wait for random resident to come out.\n",
      "For this rescue, the donor is Gluuteny, and its location is ; the recipient is Swissvale Towers, and its location is . Instruction: Please call Gluuteny before going there to confirm that they have a donation! . Comment: Dropped in the community room.\n",
      "For this rescue, the donor is Giant Eagle, and its location is Day Drive #5817; the recipient is St. Vincent De Paul, and its location is Brookside Family Center. Instruction: The Produce Dept. and Bakery Dept. will always have a donation for us. Park in the back of the building and enter at the Receiving area. Buzz in at the call box. . Comment: i met James & yes he IS awesome!.\n",
      "For this rescue, the donor is Brown's ShopRite, and its location is 471 Brooklawn; the recipient is Sacred Heart Parish, and its location is St. Bartholomew Church (aka St. Josephine Bakita). Instruction: Walk up receiving ramp in back of store to speak with Joe Cuculino, Receiving Manager, about picking up a Philly Food Rescue donation. Maintain six feet of social distance.. Comment: Scott at brooklawn shoprite is phenomenal. So helpful, all the employees i work are a great help to me..\n",
      "For this rescue, the donor is Giant Eagle, and its location is Edgecliff #1263; the recipient is St. Vincent De Paul, and its location is St. Patrick's Food Pantry. Instruction: Please call the Produce and Bakery Dept. to check for a donation before leaving. Park in the back of the building (except Wednesdays, enter through the front of the store) and enter at the Receiving area. Buzz in at the call box.. Comment: The instructions were very clear. Thank you! .\n",
      "For this rescue, the donor is Gluuteny, and its location is ; the recipient is Swissvale Towers, and its location is . Instruction: Please call Gluuteny before going there to confirm that they have a donation! . Comment: Gluuteny is getting better at being proactive. .\n",
      "For this rescue, the donor is Brueggers, and its location is Sewickley; the recipient is Salvation Army, and its location is Aliquippa. Instruction: Please call ahead to confirm a donation!. Comment: Again nothing available from Breuggers Bagels in sewickley going to Salvation Army in Aliquippa. Left a message at Salvation Army notifying them of the non delivery.\n",
      "For this rescue, the donor is Safeway, and its location is Davie Street; the recipient is Strathcona Community Centre, and its location is . Instruction: Please park in the underground parking lot that can be accessed via the alley off of Cardero St. Take the elevator up to the store. Comment: Boxes and a cart. Woohoo. Sorry that o have to give ip this run. With school bavk, i need to be available at home in the an.\n",
      "For this rescue, the donor is Wegmans, and its location is Potomac (#55); the recipient is ACTS Shelter Clients, and its location is Motel 6. Instruction: Enter through the front entrance and go to Wegmans catering desk! Let a nearby staff member know you're there to pick up the order for ACTS. They will grab the bag/s of meals from the catering fridge.. Comment: We are blessed to be a blessing. Thank you 😊 .\n",
      "For this rescue, the donor is Brueggers, and its location is Moon; the recipient is West Hills Food Pantry, and its location is . Instruction: They have a new manager, please call ahead to ensure they have a donation!. Comment: All smooth!.\n",
      "For this rescue, the donor is The Good Food Project, and its location is 112 E. Sherman St.; the recipient is Womens Center and Shelter Shadyside, and its location is . Instruction: Please call/text when you're on the way to drop off donation.. Comment: Dropped in lobby.\n",
      "For this rescue, the donor is Brueggers, and its location is Cochran Road; the recipient is Brashear Association, and its location is . Instruction: Please call the restaurant to confirm the donation before leaving to start your rescue. If you cannot get through or confirm the donation, please let 412 Food Rescue know and we will be in touch.. Comment: This is an excellent organization. They make it east to help the food insecure. .\n",
      "For this rescue, the donor is Wegmans, and its location is Potomac (#55); the recipient is ACTS Shelter Clients, and its location is Motel 6. Instruction: Enter through the front entrance and go to Wegmans catering desk! Let a nearby staff member know you're there to pick up the order for ACTS. They will grab the bag/s of meals from the catering fridge.. Comment: Went fine.\n",
      "For this rescue, the donor is Giant Eagle, and its location is Day Drive #5817; the recipient is Cuyahoga Metropolitan Housing Authority (CMHA), and its location is Lorain Square Apartments. Instruction: The Produce Dept. and Bakery Dept. will always have a donation for us. Park in the back of the building and enter at the Receiving area. Buzz in at the call box. . Comment: Destination was not ready for delivery. Didnt have tables set up. Had to wait about 15 to offload.\n",
      "For this rescue, the donor is Brown's ShopRite, and its location is 471 Brooklawn; the recipient is Sacred Heart Parish, and its location is St. Bartholomew Church (aka St. Josephine Bakita). Instruction: Walk up receiving ramp in back of store to speak with Joe Cuculino, Receiving Manager, about picking up a Philly Food Rescue donation. Maintain six feet of social distance.. Comment: Rich, nikky, Scott n joe at brooklawn\n",
      "Shoprite are phenomenal.\n",
      "Thank you.\n"
     ]
    }
   ],
   "source": [
    "for i in range(100):\n",
    "    print(get_random_rescue(cursor,relevant_donors[random.randint(0,len(relevant_donors)-1)][0]))"
   ]
  },
  {
   "cell_type": "code",
   "execution_count": 10,
   "metadata": {},
   "outputs": [],
   "source": [
    "donor_of_interest = 4691"
   ]
  },
  {
   "cell_type": "code",
   "execution_count": 21,
   "metadata": {},
   "outputs": [
    {
     "data": {
      "text/plain": [
       "('251-Long Beach', 'Ralphs Market')"
      ]
     },
     "execution_count": 21,
     "metadata": {},
     "output_type": "execute_result"
    }
   ],
   "source": [
    "get_donor_name(cursor,donor_of_interest)"
   ]
  },
  {
   "cell_type": "code",
   "execution_count": 20,
   "metadata": {},
   "outputs": [
    {
     "data": {
      "text/plain": [
       "('', 'His Nesting Place')"
      ]
     },
     "execution_count": 20,
     "metadata": {},
     "output_type": "execute_result"
    }
   ],
   "source": [
    "get_recipient_name(cursor,1582)"
   ]
  },
  {
   "cell_type": "code",
   "execution_count": 12,
   "metadata": {},
   "outputs": [
    {
     "data": {
      "text/plain": [
       "['Park near receiving. Check in with receiver. Grab a shopping cart and visit each department to see if they have donations. Visit Bakery, Dairy, Deli, Meat, and Produce Departments. Then check out with the receiver. If receiver area is closed, exit through front of store.',\n",
       " 'Check in with receiver. Grab a shopping cart and visit each department to see if they have donations. Visit Bakery, Dairy, Deli, Meat, and Produce Departments. Then check out with the receiver. If receiver area is closed, exit through front of store.']"
      ]
     },
     "execution_count": 12,
     "metadata": {},
     "output_type": "execute_result"
    }
   ],
   "source": [
    "get_instructions_by_id(cursor,donor_of_interest)"
   ]
  },
  {
   "cell_type": "code",
   "execution_count": 23,
   "metadata": {},
   "outputs": [
    {
     "data": {
      "text/plain": [
       "[{'recipient_location_id': 1651,\n",
       "  'volunteer_comment': 'The meat box was minimum 40#, so I counted as two boxes.'},\n",
       " {'recipient_location_id': 1648,\n",
       "  'volunteer_comment': 'Still got numerous errors'},\n",
       " {'recipient_location_id': 1755,\n",
       "  'volunteer_comment': 'Location did not have boxes so the shopping carts were just emptied i to my car. Took a lot longer than expected going to each dept and finding the people to release the food. Lots and lots of bakery today'},\n",
       " {'recipient_location_id': 2272, 'volunteer_comment': 'Cherry'},\n",
       " {'recipient_location_id': 1648,\n",
       "  'volunteer_comment': 'First time...most departmens didnt have anything. 😞'},\n",
       " {'recipient_location_id': 2272,\n",
       "  'volunteer_comment': 'Everyone is so nice and I appreciate it so much. '},\n",
       " {'recipient_location_id': 2673,\n",
       "  'volunteer_comment': 'SAME PROBLEM AS LAST WEEK.\\n\\nFF DID NOT SHOW UP ON TUESDAY \\n\\nOR SATURDAY AGAIN. '},\n",
       " {'recipient_location_id': 3085,\n",
       "  'volunteer_comment': 'The picture of donations does not show everything, had to take two trips cause there were so many donations this time. 😁 so the picture reflects only the baked goods I had to come back for. '},\n",
       " {'recipient_location_id': 1820,\n",
       "  'volunteer_comment': \"All departments didn't have food but so thankful for the departments who were able to donate \"},\n",
       " {'recipient_location_id': 3085,\n",
       "  'volunteer_comment': 'This was my first time, Bakery manager was really nice and helpful. Meat department was good. \\nYoh had to go to each department and all thenother departments we rude and put out showing me what to do. \\nThey were rude and I felt as if I was a huge bother. It was aweful. \\n\\nThe lady at AME was really nice!!\\n\\n'},\n",
       " {'recipient_location_id': 1494,\n",
       "  'volunteer_comment': \"THE STAFF AT RALPHS  4TH STREET ARE VERY  GRACIOUS  AND HELPFUL.\\n IT'S PLEASURE  TO SERVE WITH THEM.\"},\n",
       " {'recipient_location_id': 1494,\n",
       "  'volunteer_comment': \"A Great Find Today!!!\\nThanks  For  This Organization's  Vision!!!\"},\n",
       " {'recipient_location_id': 1494,\n",
       "  'volunteer_comment': \"Very Pleasant  Employees...\\nEncouragement  from inquiring shoppers....\\nWe appreciate  the generosity  of  this Ralph's  location. \"},\n",
       " {'recipient_location_id': 1884, 'volunteer_comment': 'Thanks you very much'},\n",
       " {'recipient_location_id': 2272,\n",
       "  'volunteer_comment': 'Overwhelming at Ralphs. By myself many shopping carts of food. No boxes, heavy lifting. Be prepared'},\n",
       " {'recipient_location_id': 1494,\n",
       "  'volunteer_comment': \"thanking Ralph's for their support and generosity  this past year!!\"},\n",
       " {'recipient_location_id': 2272,\n",
       "  'volunteer_comment': 'Donations at ralphs were a little spread out through out the store other than that everything was just fine'},\n",
       " {'recipient_location_id': 1494,\n",
       "  'volunteer_comment': 'I LOVE THIS!!!!\\nTHANK  YOU RALPH FOR YOUR GENEROSITY. THE FRESH PRODUCE, ETC IS NEEDED AND APPRECIATED IN OUR COMMUNITY. '},\n",
       " {'recipient_location_id': 1494,\n",
       "  'volunteer_comment': 'Thanking Ralphs for their  generosity! Our community  is blessed  to have Food Finders!!'},\n",
       " {'recipient_location_id': 2673,\n",
       "  'volunteer_comment': 'Ralphs was a tad disjointed and their donations were scattered through the store so it required a bit more time than anticipated. Not a real complaint. Just an observation.'},\n",
       " {'recipient_location_id': 1494,\n",
       "  'volunteer_comment': 'Thank you Ralphs  4th Street  you for your generosity. Our community certainly  appreciates  the donations  weekly. '},\n",
       " {'recipient_location_id': 1582,\n",
       "  'volunteer_comment': 'Someone already picked up at Ralphs on 4th St this morning. I arrived at 10:10, so no delivery. '},\n",
       " {'recipient_location_id': 1494, 'volunteer_comment': '👍'},\n",
       " {'recipient_location_id': 1494, 'volunteer_comment': '👍'},\n",
       " {'recipient_location_id': 2673, 'volunteer_comment': '8 cart day!'},\n",
       " {'recipient_location_id': 1582, 'volunteer_comment': '👍'},\n",
       " {'recipient_location_id': 1494,\n",
       "  'volunteer_comment': 'Bakery not prepared. Told me to return later. Cannot return later. '},\n",
       " {'recipient_location_id': 1582, 'volunteer_comment': '👍'},\n",
       " {'recipient_location_id': 1582, 'volunteer_comment': '👍'},\n",
       " {'recipient_location_id': 2673, 'volunteer_comment': 'Already picked up.😳'},\n",
       " {'recipient_location_id': 1582, 'volunteer_comment': '👍'},\n",
       " {'recipient_location_id': 2272, 'volunteer_comment': 'Only 2 boxes.🙁'},\n",
       " {'recipient_location_id': 1582, 'volunteer_comment': '👍'},\n",
       " {'recipient_location_id': 3085,\n",
       "  'volunteer_comment': 'Staff seem behind and unprepared.\\nThe receiver was at lunch and had no backup so had to wait for him.\\n\\nOnly recieved about 3 boxes of the approximate list. There was only one box of bakery items set aside. Waited about 20 mintutes for the prepared foods team to collect the food.'},\n",
       " {'recipient_location_id': 1582, 'volunteer_comment': '👍'},\n",
       " {'recipient_location_id': 1582, 'volunteer_comment': '👍'},\n",
       " {'recipient_location_id': 1582, 'volunteer_comment': '👍'},\n",
       " {'recipient_location_id': 1582, 'volunteer_comment': '👍'},\n",
       " {'recipient_location_id': 1582,\n",
       "  'volunteer_comment': '👍\\nSuccessful pickup and delivery! Sorry , no pic today. '},\n",
       " {'recipient_location_id': 1582, 'volunteer_comment': '👍'},\n",
       " {'recipient_location_id': 1582,\n",
       "  'volunteer_comment': 'Great bunch of people to work with both at Ralphs and Nesting Place : )'},\n",
       " {'recipient_location_id': 1582, 'volunteer_comment': '👍'},\n",
       " {'recipient_location_id': 1582, 'volunteer_comment': '👍'},\n",
       " {'recipient_location_id': 1582, 'volunteer_comment': '👍'},\n",
       " {'recipient_location_id': 1582, 'volunteer_comment': '👍'},\n",
       " {'recipient_location_id': 1582, 'volunteer_comment': '👍'},\n",
       " {'recipient_location_id': 1494,\n",
       "  'volunteer_comment': 'Left at gate. Nobody there yet. '},\n",
       " {'recipient_location_id': 1582, 'volunteer_comment': '👍'},\n",
       " {'recipient_location_id': 1494,\n",
       "  'volunteer_comment': '2 pieces of questionable fruit. Bad kiwi and apple '},\n",
       " {'recipient_location_id': 1582, 'volunteer_comment': '👍'},\n",
       " {'recipient_location_id': 1582, 'volunteer_comment': '👍'},\n",
       " {'recipient_location_id': 1582, 'volunteer_comment': '👍'},\n",
       " {'recipient_location_id': 1582, 'volunteer_comment': '👍'},\n",
       " {'recipient_location_id': 1582, 'volunteer_comment': '👍'},\n",
       " {'recipient_location_id': 1582, 'volunteer_comment': '👍'},\n",
       " {'recipient_location_id': 1582,\n",
       "  'volunteer_comment': ' No pic today, sorry \\n👍'},\n",
       " {'recipient_location_id': 1582, 'volunteer_comment': '👍'},\n",
       " {'recipient_location_id': 1582, 'volunteer_comment': '👍'},\n",
       " {'recipient_location_id': 1582,\n",
       "  'volunteer_comment': 'Kevin, it was a good pickup and delivery. Apparently, whoever picked up from the Ralphs last week on the other days did not pick up from the ‘deli’ area. They usually have a lot of deli stuff to go. The head deli gal was a little upset about that. I told her wed fix that😉 thanks'},\n",
       " {'recipient_location_id': 1582, 'volunteer_comment': '👍'},\n",
       " {'recipient_location_id': 1582, 'volunteer_comment': '👍'},\n",
       " {'recipient_location_id': 1582,\n",
       "  'volunteer_comment': 'Good delivery. No pic today… forgot. 😉'},\n",
       " {'recipient_location_id': 1582, 'volunteer_comment': '👍'},\n",
       " {'recipient_location_id': 1582, 'volunteer_comment': '👍'}]"
      ]
     },
     "execution_count": 23,
     "metadata": {},
     "output_type": "execute_result"
    }
   ],
   "source": [
    "get_feedback_by_id(cursor,donor_of_interest)"
   ]
  },
  {
   "cell_type": "code",
   "execution_count": 27,
   "metadata": {},
   "outputs": [
    {
     "data": {
      "text/plain": [
       "\"For this rescue, the donor is Ralphs Market, and its location is 251-Long Beach; the recipient is Christ Second Baptist Church, and its location is . Instruction: Park near receiving. Check in with receiver. Grab a shopping cart and visit each department to see if they have donations. Visit Bakery, Dairy, Deli, Meat, and Produce Departments. Then check out with the receiver. If receiver area is closed, exit through front of store.. Comment: THE STAFF AT RALPHS  4TH STREET ARE VERY  GRACIOUS  AND HELPFUL.\\n IT'S PLEASURE  TO SERVE WITH THEM..\""
      ]
     },
     "execution_count": 27,
     "metadata": {},
     "output_type": "execute_result"
    }
   ],
   "source": []
  }
 ],
 "metadata": {
  "kernelspec": {
   "display_name": "patient",
   "language": "python",
   "name": "python3"
  },
  "language_info": {
   "codemirror_mode": {
    "name": "ipython",
    "version": 3
   },
   "file_extension": ".py",
   "mimetype": "text/x-python",
   "name": "python",
   "nbconvert_exporter": "python",
   "pygments_lexer": "ipython3",
   "version": "3.8.18"
  }
 },
 "nbformat": 4,
 "nbformat_minor": 2
}
