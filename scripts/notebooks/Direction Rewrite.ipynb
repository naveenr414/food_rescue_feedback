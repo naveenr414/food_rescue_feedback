{
 "cells": [
  {
   "cell_type": "code",
   "execution_count": 1,
   "metadata": {},
   "outputs": [],
   "source": [
    "%load_ext autoreload\n",
    "%autoreload 2"
   ]
  },
  {
   "cell_type": "code",
   "execution_count": 2,
   "metadata": {},
   "outputs": [],
   "source": [
    "import matplotlib.pyplot as plt\n",
    "import matplotlib as mpl\n",
    "import json\n",
    "import numpy as np\n",
    "from collections import Counter\n",
    "import pandas as pd\n",
    "from feedback.plotting import *\n",
    "from sklearn.metrics import cohen_kappa_score\n",
    "from scipy.stats import pearsonr\n",
    "from feedback.fr_feedback import *\n",
    "from feedback.database import *\n"
   ]
  },
  {
   "cell_type": "code",
   "execution_count": 3,
   "metadata": {},
   "outputs": [],
   "source": [
    "plt.style.use('ggplot')\n",
    "colors = plt.rcParams['axes.prop_cycle'].by_key()['color']\n",
    "plt.style.use('default')"
   ]
  },
  {
   "cell_type": "code",
   "execution_count": 4,
   "metadata": {},
   "outputs": [],
   "source": [
    "pd.set_option('display.max_columns', None)  \n"
   ]
  },
  {
   "cell_type": "code",
   "execution_count": 5,
   "metadata": {},
   "outputs": [],
   "source": [
    "plt.rcParams['figure.dpi'] = 300\n",
    "plt.rcParams['savefig.dpi'] = 300"
   ]
  },
  {
   "cell_type": "code",
   "execution_count": 6,
   "metadata": {},
   "outputs": [],
   "source": [
    "plt.rcParams['xtick.labelsize'] = 18\n",
    "plt.rcParams['ytick.labelsize'] = 18\n",
    "plt.rcParams['axes.labelsize'] = 18\n",
    "plt.rcParams['legend.fontsize'] = 14\n",
    "plt.rcParams['axes.prop_cycle'] = mpl.cycler(color=colors)\n",
    "plt.rcParams['savefig.dpi'] = 300\n",
    "plt.rcParams['axes.spines.right'] = False\n",
    "plt.rcParams['axes.spines.top'] = False\n",
    "\n",
    "plt.rcParams['savefig.bbox'] = 'tight'"
   ]
  },
  {
   "cell_type": "code",
   "execution_count": 7,
   "metadata": {},
   "outputs": [],
   "source": [
    "style_size = 'paper'"
   ]
  },
  {
   "cell_type": "code",
   "execution_count": 8,
   "metadata": {},
   "outputs": [],
   "source": [
    "db_name = os.environ.get(\"POSTGRES_DB\")\n",
    "username = os.environ.get(\"POSTGRES_USER\")\n",
    "password = os.environ.get(\"POSTGRES_PASSWORD\") \n",
    "ip_address = os.environ.get(\"DATABASE_HOST\") \n",
    "port = os.environ.get(\"DATABASE_PORT\")\n",
    "openai_api_key = os.environ.get(\"OPENAI_API_KEY\")\n",
    "\n",
    "connection_dict = open_connection(db_name,username,password,ip_address,port)\n",
    "connection = connection_dict['connection']\n",
    "cursor = connection_dict['cursor']\n",
    "\n",
    "client = openai.OpenAI(api_key=openai_api_key)\n",
    "prompt = open(\"../../data/prompts/update_direction.txt\").read()"
   ]
  },
  {
   "cell_type": "code",
   "execution_count": 9,
   "metadata": {},
   "outputs": [],
   "source": [
    "start_date = \"2024-01-01\"\n",
    "end_date = \"2024-12-31\"\n",
    "organization_id = 1"
   ]
  },
  {
   "cell_type": "code",
   "execution_count": 23,
   "metadata": {},
   "outputs": [
    {
     "name": "stderr",
     "output_type": "stream",
     "text": [
      "/usr0/home/naveenr/projects/food_rescue_feedback/feedback/database.py:59: UserWarning: pandas only supports SQLAlchemy connectable (engine/connection) or database string URI or sqlite3 DBAPI2 connection. Other DBAPI2 objects are not tested. Please consider using SQLAlchemy.\n",
      "  return pd.read_sql_query(query, conn)\n"
     ]
    }
   ],
   "source": [
    "df_orig = get_feedback_by_date_instruction(connection,start_date,end_date)\n",
    "df_predictions = get_predictions_by_date(connection,start_date,end_date,organization_id)\n",
    "filtered_df = df_orig[df_orig['id'].isin(df_predictions.loc[df_predictions['direction_problem'] == True, 'owner_id'])]\n",
    "filtered_df = filtered_df.reset_index()"
   ]
  },
  {
   "cell_type": "code",
   "execution_count": 25,
   "metadata": {},
   "outputs": [
    {
     "name": "stdout",
     "output_type": "stream",
     "text": [
      "On Rescue 1 out of 130\n",
      "On Rescue 2 out of 130\n",
      "On Rescue 3 out of 130\n",
      "On Rescue 4 out of 130\n",
      "On Rescue 5 out of 130\n",
      "On Rescue 6 out of 130\n",
      "On Rescue 7 out of 130\n",
      "On Rescue 8 out of 130\n",
      "On Rescue 9 out of 130\n",
      "On Rescue 10 out of 130\n",
      "On Rescue 11 out of 130\n",
      "On Rescue 12 out of 130\n",
      "On Rescue 13 out of 130\n",
      "On Rescue 14 out of 130\n",
      "On Rescue 15 out of 130\n",
      "On Rescue 16 out of 130\n",
      "On Rescue 17 out of 130\n",
      "On Rescue 18 out of 130\n",
      "On Rescue 19 out of 130\n",
      "On Rescue 20 out of 130\n",
      "On Rescue 21 out of 130\n",
      "On Rescue 22 out of 130\n",
      "On Rescue 23 out of 130\n",
      "On Rescue 24 out of 130\n",
      "On Rescue 25 out of 130\n",
      "On Rescue 26 out of 130\n",
      "On Rescue 27 out of 130\n",
      "On Rescue 28 out of 130\n",
      "On Rescue 29 out of 130\n",
      "On Rescue 30 out of 130\n",
      "On Rescue 31 out of 130\n",
      "On Rescue 32 out of 130\n",
      "On Rescue 33 out of 130\n",
      "On Rescue 34 out of 130\n",
      "On Rescue 35 out of 130\n",
      "On Rescue 36 out of 130\n",
      "On Rescue 37 out of 130\n",
      "On Rescue 38 out of 130\n",
      "On Rescue 39 out of 130\n",
      "On Rescue 40 out of 130\n",
      "On Rescue 41 out of 130\n",
      "On Rescue 42 out of 130\n",
      "On Rescue 43 out of 130\n",
      "On Rescue 44 out of 130\n",
      "On Rescue 45 out of 130\n",
      "On Rescue 46 out of 130\n",
      "On Rescue 47 out of 130\n",
      "On Rescue 48 out of 130\n",
      "On Rescue 49 out of 130\n",
      "On Rescue 50 out of 130\n",
      "On Rescue 51 out of 130\n",
      "On Rescue 52 out of 130\n",
      "On Rescue 53 out of 130\n",
      "On Rescue 54 out of 130\n",
      "On Rescue 55 out of 130\n",
      "On Rescue 56 out of 130\n",
      "On Rescue 57 out of 130\n",
      "On Rescue 58 out of 130\n",
      "On Rescue 59 out of 130\n",
      "On Rescue 60 out of 130\n",
      "On Rescue 61 out of 130\n",
      "On Rescue 62 out of 130\n",
      "On Rescue 63 out of 130\n",
      "On Rescue 64 out of 130\n",
      "On Rescue 65 out of 130\n",
      "On Rescue 66 out of 130\n",
      "On Rescue 67 out of 130\n",
      "On Rescue 68 out of 130\n",
      "On Rescue 69 out of 130\n",
      "On Rescue 70 out of 130\n",
      "On Rescue 71 out of 130\n",
      "On Rescue 72 out of 130\n",
      "On Rescue 73 out of 130\n",
      "On Rescue 74 out of 130\n",
      "On Rescue 75 out of 130\n",
      "On Rescue 76 out of 130\n",
      "On Rescue 77 out of 130\n",
      "On Rescue 78 out of 130\n",
      "On Rescue 79 out of 130\n",
      "On Rescue 80 out of 130\n",
      "On Rescue 81 out of 130\n",
      "On Rescue 82 out of 130\n",
      "On Rescue 83 out of 130\n",
      "On Rescue 84 out of 130\n",
      "On Rescue 85 out of 130\n",
      "On Rescue 86 out of 130\n",
      "On Rescue 87 out of 130\n",
      "On Rescue 88 out of 130\n",
      "On Rescue 89 out of 130\n",
      "On Rescue 90 out of 130\n",
      "On Rescue 91 out of 130\n",
      "On Rescue 92 out of 130\n",
      "On Rescue 93 out of 130\n",
      "On Rescue 94 out of 130\n",
      "On Rescue 95 out of 130\n",
      "On Rescue 96 out of 130\n",
      "On Rescue 97 out of 130\n",
      "On Rescue 98 out of 130\n",
      "On Rescue 99 out of 130\n",
      "On Rescue 100 out of 130\n",
      "On Rescue 101 out of 130\n",
      "On Rescue 102 out of 130\n",
      "On Rescue 103 out of 130\n",
      "On Rescue 104 out of 130\n",
      "On Rescue 105 out of 130\n",
      "On Rescue 106 out of 130\n",
      "On Rescue 107 out of 130\n",
      "On Rescue 108 out of 130\n",
      "On Rescue 109 out of 130\n",
      "On Rescue 110 out of 130\n",
      "On Rescue 111 out of 130\n",
      "On Rescue 112 out of 130\n",
      "On Rescue 113 out of 130\n",
      "On Rescue 114 out of 130\n",
      "On Rescue 115 out of 130\n",
      "On Rescue 116 out of 130\n",
      "On Rescue 117 out of 130\n",
      "On Rescue 118 out of 130\n",
      "On Rescue 119 out of 130\n",
      "On Rescue 120 out of 130\n",
      "On Rescue 121 out of 130\n",
      "On Rescue 122 out of 130\n",
      "On Rescue 123 out of 130\n",
      "On Rescue 124 out of 130\n",
      "On Rescue 125 out of 130\n",
      "On Rescue 126 out of 130\n",
      "On Rescue 127 out of 130\n",
      "On Rescue 128 out of 130\n",
      "On Rescue 129 out of 130\n",
      "On Rescue 130 out of 130\n"
     ]
    }
   ],
   "source": [
    "for i in range(len(filtered_df)):\n",
    "    comment = {'donor': filtered_df.loc[i, \"donor_name\"], \n",
    "    'recipient': filtered_df.loc[i, \"recipient_name\"], \n",
    "    'volunteer_comment': filtered_df.loc[i, \"volunteer_comment\"],\n",
    "    'donor_instruction': filtered_df.loc[i,\"donor_instruction\"], \n",
    "    'recipient_instruction': filtered_df.loc[i,\"recipient_instruction\"]}\n",
    "    comment = str(comment)\n",
    "\n",
    "    print(\"On Rescue {} out of {}\".format(i+1,len(filtered_df)))\n",
    "\n",
    "    try:\n",
    "        response = client.chat.completions.create(\n",
    "            model=\"gpt-4o-mini\",\n",
    "            messages=[{\"role\": \"user\", \"content\": prompt + comment}],\n",
    "            response_format={\"type\": \"json_object\"},\n",
    "        )\n",
    "        output = response.choices[0].message.content\n",
    "        feedback_info = json.loads(output)\n",
    "\n",
    "        filtered_df.loc[i, 'donor_direction_change'] = feedback_info['donor_direction_change']\n",
    "        filtered_df.loc[i, 'rewritten_donor_direction'] = feedback_info['rewritten_donor_direction']\n",
    "        filtered_df.loc[i, 'recipient_direction_change'] = feedback_info['recipient_direction_change']\n",
    "        filtered_df.loc[i, 'rewritten_recipient_direction'] = feedback_info['rewritten_recipient_direction']\n",
    "\n",
    "    except Exception as e:\n",
    "        print(f\"Error processing feedback {i}: {e}\")"
   ]
  },
  {
   "cell_type": "code",
   "execution_count": 61,
   "metadata": {},
   "outputs": [],
   "source": [
    "filtered_df = filtered_df[\n",
    "    (filtered_df['donor_direction_change'] == True) |\n",
    "    (filtered_df['recipient_direction_change'] == True)\n",
    "]\n"
   ]
  },
  {
   "cell_type": "code",
   "execution_count": 59,
   "metadata": {},
   "outputs": [],
   "source": [
    "filtered_df.to_csv(\"../../data/annotations/rewritten_instructions_2024.csv\")"
   ]
  }
 ],
 "metadata": {
  "kernelspec": {
   "display_name": "food",
   "language": "python",
   "name": "python3"
  },
  "language_info": {
   "codemirror_mode": {
    "name": "ipython",
    "version": 3
   },
   "file_extension": ".py",
   "mimetype": "text/x-python",
   "name": "python",
   "nbconvert_exporter": "python",
   "pygments_lexer": "ipython3",
   "version": "3.10.14"
  },
  "orig_nbformat": 4
 },
 "nbformat": 4,
 "nbformat_minor": 2
}
