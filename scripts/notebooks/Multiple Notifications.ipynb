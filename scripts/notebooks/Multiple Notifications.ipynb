{
 "cells": [
  {
   "cell_type": "markdown",
   "metadata": {},
   "source": [
    "# All Policies"
   ]
  },
  {
   "cell_type": "markdown",
   "metadata": {},
   "source": [
    "Analyze the performance of our Whittle and Adaptive Policies"
   ]
  },
  {
   "cell_type": "code",
   "execution_count": 19,
   "metadata": {},
   "outputs": [
    {
     "name": "stdout",
     "output_type": "stream",
     "text": [
      "The autoreload extension is already loaded. To reload it, use:\n",
      "  %reload_ext autoreload\n"
     ]
    }
   ],
   "source": [
    "%load_ext autoreload\n",
    "%autoreload 2"
   ]
  },
  {
   "cell_type": "code",
   "execution_count": 28,
   "metadata": {},
   "outputs": [],
   "source": [
    "import numpy as np\n",
    "import random \n",
    "import matplotlib.pyplot as plt\n",
    "import json \n",
    "import argparse \n",
    "import sys\n",
    "import secrets\n",
    "from itertools import combinations\n",
    "import joblib\n",
    "import datetime\n",
    "from feedback.fr_dynamics import get_db_data, get_train_test_data_rating, get_data_predict_match_difficulty, get_user_ratings, get_trip_difficulty"
   ]
  },
  {
   "cell_type": "code",
   "execution_count": 30,
   "metadata": {},
   "outputs": [],
   "source": [
    "from feedback.multiple_notifications import get_notification_text, get_volunteer_trip_info, get_donor_info, get_recipient_info"
   ]
  },
  {
   "cell_type": "code",
   "execution_count": 4,
   "metadata": {},
   "outputs": [],
   "source": [
    "is_jupyter = 'ipykernel' in sys.modules"
   ]
  },
  {
   "cell_type": "code",
   "execution_count": 5,
   "metadata": {},
   "outputs": [],
   "source": [
    "volunteer_id = 37683\n",
    "donor_id = 6220\n",
    "recipient_id = 7848"
   ]
  },
  {
   "cell_type": "code",
   "execution_count": 24,
   "metadata": {},
   "outputs": [],
   "source": [
    "donation_id_to_latlon, recipient_location_to_latlon, rescues_by_user, all_rescue_data, user_id_to_latlon = get_db_data() \n",
    "joblib_file = \"../../data/models/difficulty_predictor.pkl\"\n",
    "rf_classifier = joblib.load(joblib_file)\n",
    "user_id_to_volunteer_rating, recipient_id_to_volunteer_rating = get_user_ratings() "
   ]
  },
  {
   "cell_type": "code",
   "execution_count": 27,
   "metadata": {},
   "outputs": [
    {
     "data": {
      "text/plain": [
       "4"
      ]
     },
     "execution_count": 27,
     "metadata": {},
     "output_type": "execute_result"
    }
   ],
   "source": [
    "user_id = 37683\n",
    "donor_id = 1\n",
    "recipient_location_id = 1315\n",
    "state = get_recipient_info(recipient_id)['state']\n",
    "published_at = datetime.datetime.now()\n",
    "rescue = {\n",
    "    'donation_id': donor_id, \n",
    "    'recipient_location_id': recipient_location_id, \n",
    "    'state': state,\n",
    "    'published_at': published_at\n",
    "}\n",
    "\n",
    "rf_classifier.predict([get_data_predict_match_difficulty(rescue,user_id, donation_id_to_latlon, recipient_location_to_latlon, user_id_to_latlon, rescues_by_user,user_id_to_volunteer_rating,recipient_id_to_volunteer_rating)])[0]"
   ]
  },
  {
   "cell_type": "code",
   "execution_count": 33,
   "metadata": {},
   "outputs": [
    {
     "data": {
      "text/plain": [
       "'New trip available from 412 FR Truck @ Steel Valley AIU in Homestead to St Leo Food Pantry in North Fairmount, 257.3 miles away'"
      ]
     },
     "execution_count": 33,
     "metadata": {},
     "output_type": "execute_result"
    }
   ],
   "source": [
    "get_notification_text(get_volunteer_trip_info(volunteer_id,donor_id,recipient_id)[0],\n",
    "                    get_donor_info(donor_id),\n",
    "                    get_recipient_info(recipient_id)\n",
    "                    ,get_volunteer_trip_info(volunteer_id,donor_id,recipient_id)[1],\n",
    "                    get_trip_difficulty(volunteer_id,donor_id,recipient_id,donation_id_to_latlon, recipient_location_to_latlon, rescues_by_user, user_id_to_latlon,user_id_to_volunteer_rating, recipient_id_to_volunteer_rating,rf_classifier))"
   ]
  }
 ],
 "metadata": {
  "kernelspec": {
   "display_name": "food",
   "language": "python",
   "name": "python3"
  },
  "language_info": {
   "codemirror_mode": {
    "name": "ipython",
    "version": 3
   },
   "file_extension": ".py",
   "mimetype": "text/x-python",
   "name": "python",
   "nbconvert_exporter": "python",
   "pygments_lexer": "ipython3",
   "version": "3.8.18"
  },
  "orig_nbformat": 4
 },
 "nbformat": 4,
 "nbformat_minor": 2
}
